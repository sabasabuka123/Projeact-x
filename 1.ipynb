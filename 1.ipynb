{
 "cells": [
  {
   "cell_type": "markdown",
   "metadata": {},
   "source": [
    "#project x"
   ]
  },
  {
   "cell_type": "markdown",
   "metadata": {},
   "source": [
    "## Introduction\n",
    "\n",
    "Welcome to this notebook! In this notebook, we will explore various concepts related to [subject/topic]. We will delve into [specific aspect 1], [specific aspect 2], and [specific aspect 3], aiming to gain a deeper understanding of [subject/topic]. Through code examples, visualizations, and explanations, we hope to provide you with a comprehensive overview of [subject/topic].\n",
    "\n",
    "Feel free to follow along, run the code cells, and experiment with the concepts discussed. Let's dive in!\n"
   ]
  },
  {
   "cell_type": "markdown",
   "metadata": {},
   "source": [
    "## Data Science Languages\n",
    "\n",
    "Here are some popular languages used in data science:\n",
    "\n",
    "- Python\n",
    "- R\n",
    "- SQL\n",
    "- Julia\n",
    "- Scala\n",
    "- MATLAB\n",
    "- SAS\n",
    "- Java (with libraries like Apache Spark)\n",
    "- JavaScript (with libraries like TensorFlow.js)\n",
    "\n",
    "Each of these languages has its strengths and is commonly used for various tasks in the field of data science.\n"
   ]
  },
  {
   "cell_type": "markdown",
   "metadata": {},
   "source": [
    "## Data Science Libraries\n",
    "\n",
    "Data science relies heavily on various libraries and frameworks to perform tasks efficiently. Here are some popular libraries used across different languages:\n",
    "\n",
    "### Python:\n",
    "- NumPy: For numerical computing.\n",
    "- Pandas: For data manipulation and analysis.\n",
    "- Matplotlib: For data visualization.\n",
    "- Seaborn: For statistical data visualization.\n",
    "- Scikit-learn: For machine learning algorithms.\n",
    "- TensorFlow: For deep learning.\n",
    "- PyTorch: For deep learning.\n",
    "- Keras: High-level neural networks API.\n",
    "\n",
    "### R:\n",
    "- ggplot2: For data visualization.\n",
    "- dplyr: For data manipulation.\n",
    "- caret: For machine learning.\n",
    "- tidyr: For data tidying.\n",
    "- lubridate: For working with dates and times.\n",
    "- glmnet: For regularization methods.\n",
    "\n",
    "### Others:\n",
    "- SQL: For database querying and manipulation.\n",
    "- Apache Spark: For large-scale data processing.\n",
    "- MATLAB: For numerical computing and simulation.\n",
    "- SAS: For statistical analysis and predictive modeling.\n",
    "\n",
    "These libraries provide powerful tools for data scientists to analyze, visualize, and model data effectively.\n"
   ]
  },
  {
   "cell_type": "markdown",
   "metadata": {},
   "source": [
    "## Data Science Tools\n",
    "\n",
    "| Language    | Libraries/Frameworks           | Description                                    |\n",
    "|-------------|--------------------------------|------------------------------------------------|\n",
    "| Python      | NumPy, Pandas, Matplotlib,     | Widely used for data manipulation, analysis,   |\n",
    "|             | Seaborn, Scikit-learn,         | visualization, and machine learning.          |\n",
    "|             | TensorFlow, PyTorch, Keras     |                                                |\n",
    "| R           | ggplot2, dplyr, caret,         | Popular for statistical analysis, data         |\n",
    "|             | tidyr, lubridate, glmnet       | visualization, and machine learning.          |\n",
    "| SQL         | -                              | Used for database querying and manipulation.   |\n",
    "| Julia       | -                              | Known for its high-performance numerical      |\n",
    "|             |                                | computing capabilities.                        |\n",
    "| Scala       | Apache Spark                   | Ideal for large-scale data processing.        |\n",
    "| MATLAB      | -                              | Commonly used for numerical computing and     |\n",
    "|             |                                | simulation.                                    |\n",
    "| SAS         | -                              | Widely used for statistical analysis and      |\n",
    "|             |                                | predictive modeling.                           |\n",
    "| JavaScript  | TensorFlow.js                  | Used for machine learning in web applications.|\n",
    "\n",
    "This table provides an overview of some of the key languages, libraries, and frameworks used in the field of data science.\n"
   ]
  },
  {
   "cell_type": "markdown",
   "metadata": {},
   "source": [
    "## Arithmetic Expression Examples\n",
    "\n",
    "Arithmetic expressions are fundamental in mathematics and programming. They involve mathematical operations such as addition, subtraction, multiplication, and division. In this section, we will explore various arithmetic expression examples to demonstrate how these operations work in different contexts.\n",
    "\n",
    "We will cover basic arithmetic operations, as well as more advanced concepts such as exponentiation and modulus. Through examples and explanations, we aim to provide a comprehensive understanding of arithmetic expressions and their applications.\n",
    "\n",
    "Let's dive into some examples to see arithmetic expressions in action!\n"
   ]
  },
  {
   "cell_type": "code",
   "execution_count": null,
   "metadata": {},
   "outputs": [],
   "source": [
    "# Multiply and add numbers\n",
    "num1 = 5\n",
    "num2 = 10\n",
    "num3 = 3\n",
    "\n",
    "# Multiply two numbers\n",
    "result_multiply = num1 * num2\n",
    "print(\"Result of multiplication:\", result_multiply)\n",
    "\n",
    "# Add three numbers\n",
    "result_addition = num1 + num2 + num3\n",
    "print(\"Result of addition:\", result_addition)\n"
   ]
  },
  {
   "cell_type": "code",
   "execution_count": null,
   "metadata": {},
   "outputs": [],
   "source": [
    "# Convert minutes to hours\n",
    "minutes = 120\n",
    "\n",
    "# Convert minutes to hours\n",
    "hours = minutes / 60\n",
    "\n",
    "print(\"120 minutes is equal to\", hours, \"hours.\")\n"
   ]
  },
  {
   "cell_type": "markdown",
   "metadata": {},
   "source": [
    "## Objectives\n",
    "\n",
    "The objectives of this exercise are:\n",
    "\n",
    "1. To practice writing Python code to perform arithmetic operations.\n",
    "2. To understand how to convert units of time, such as minutes to hours.\n",
    "3. To demonstrate proficiency in using Jupyter Notebook for coding and documentation.\n"
   ]
  },
  {
   "cell_type": "markdown",
   "metadata": {},
   "source": [
    "## Author\n",
    "\n",
    "This notebook was authored by Saba.\n"
   ]
  }
 ],
 "metadata": {
  "kernelspec": {
   "display_name": "Python 3",
   "language": "python",
   "name": "python3"
  },
  "language_info": {
   "name": "python",
   "version": "3.11.9"
  }
 },
 "nbformat": 4,
 "nbformat_minor": 2
}
